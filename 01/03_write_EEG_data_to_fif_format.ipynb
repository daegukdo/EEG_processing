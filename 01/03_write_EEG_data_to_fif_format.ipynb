{
 "cells": [
  {
   "cell_type": "markdown",
   "metadata": {},
   "source": [
    "### EEG data save for MNE\n",
    "\n",
    " - MNE는 EEG보다는 MEG (Magnetoencephalography)인 뇌자도를 기본적으로 지원하기 위한 package library이다\n",
    " \n",
    " - 두 데이터는 뇌파를 어떤 물리량 (예; 전기, 자기 등)으로 측정하는가의 차이이지 크게 다르지 않다고 생각한다\n",
    " \n",
    " - 그 이유로는 time axis를 기반으로 측정된다는 점과 전극(electrode)의 개념을 가지며 다른 심전도 등등의 생체 신호에 민감하다는 점이 비슷하기 때문이다\n",
    " \n",
    " - 또한 MNE가 두 형식의 뇌파 데이터의 대부분을 지원하기 때문이기도 하다 \n",
    " \n",
    " - 다시 말하면 이 package library를 두 데이터 형식 모두에서 사용할 수 있기 때문이라고 할 수 있다\n",
    " \n",
    " - 하지만 위에서 언급한 바와 같이 MEG를 기본으로 하다보니 데이터를 읽어드릴 때는 많은 데이터 포맷을 지원하지만 데이터를 저장할 때에는 `fif`라고 하는 `Elekta Neuromag` 회사의 MEG 측정 기기 제품에서 사용되는 포맷을 기본으로 한다\n",
    " \n",
    " - 즉, 우리는 edf로 읽어드리고 여러 뇌파 처리를 한 데이터를 `fif`라는 포맷을 저장하여 사용해야 한다는 것이다\n",
    " \n",
    " > **NOTE** EEG 및 MEG 데이터의 형식이 표준화되어 하나로 존재하지 않는 이유는 여러 회사들이 각 뇌파 측정 제품에 효율적인 포맷을 사용하기 때문이라고 생각한다. 또한 밝혀둘 것은 위의 내용은 여러 정확상 추측한 내용들이다. 자세한 이유를 안다면 알려주세요!"
   ]
  },
  {
   "cell_type": "code",
   "execution_count": null,
   "metadata": {},
   "outputs": [],
   "source": []
  },
  {
   "cell_type": "code",
   "execution_count": null,
   "metadata": {},
   "outputs": [],
   "source": [
    "# eeg 데이터의 경로를 정의\n",
    "eeg_data_path = 'data/00002806_s001_t000.edf'"
   ]
  },
  {
   "cell_type": "code",
   "execution_count": 5,
   "metadata": {},
   "outputs": [],
   "source": [
    "# 사용할 모듈의 함수를 정의\n",
    "from mne.io import read_raw_edf"
   ]
  },
  {
   "cell_type": "code",
   "execution_count": 6,
   "metadata": {},
   "outputs": [
    {
     "name": "stdout",
     "output_type": "stream",
     "text": [
      "Extracting EDF parameters from data/00002806_s001_t000.edf...\n",
      "EDF file detected\n",
      "Setting channel info structure...\n",
      "Creating raw.info structure...\n",
      "Reading 0 ... 10399  =      0.000 ...    25.997 secs...\n"
     ]
    }
   ],
   "source": [
    "# 데이터를 읽기\n",
    "raw = read_raw_edf(eeg_data_path, preload=True)"
   ]
  },
  {
   "cell_type": "code",
   "execution_count": null,
   "metadata": {},
   "outputs": [],
   "source": []
  }
 ],
 "metadata": {
  "kernelspec": {
   "display_name": "Python 3",
   "language": "python",
   "name": "python3"
  },
  "language_info": {
   "codemirror_mode": {
    "name": "ipython",
    "version": 3
   },
   "file_extension": ".py",
   "mimetype": "text/x-python",
   "name": "python",
   "nbconvert_exporter": "python",
   "pygments_lexer": "ipython3",
   "version": "3.6.8"
  }
 },
 "nbformat": 4,
 "nbformat_minor": 2
}
